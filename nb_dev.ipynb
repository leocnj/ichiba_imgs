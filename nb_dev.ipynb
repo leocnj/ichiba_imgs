{
 "metadata": {
  "language_info": {
   "codemirror_mode": {
    "name": "ipython",
    "version": 3
   },
   "file_extension": ".py",
   "mimetype": "text/x-python",
   "name": "python",
   "nbconvert_exporter": "python",
   "pygments_lexer": "ipython3",
   "version": "3.6.9-final"
  },
  "orig_nbformat": 2,
  "kernelspec": {
   "name": "python36964bitd2ea3bae284f4a1faf0d98c6a9bc71f9",
   "display_name": "Python 3.6.9 64-bit"
  }
 },
 "nbformat": 4,
 "nbformat_minor": 2,
 "cells": [
  {
   "cell_type": "code",
   "execution_count": 11,
   "metadata": {},
   "outputs": [],
   "source": [
    "import pandas as pd\n",
    "from tqdm import tqdm"
   ]
  },
  {
   "cell_type": "code",
   "execution_count": 12,
   "metadata": {},
   "outputs": [
    {
     "output_type": "execute_result",
     "data": {
      "text/plain": [
       "                                                  0                1   \\\n",
       "0  サライ の 贈り物 movelot リン ベル 30800円 コース 紅梅 母 の 日 父 ...  0/101381/566732   \n",
       "\n",
       "                                                  2       3         4   \\\n",
       "0  [ のし 対応 包装 メッセージ カード 無料 ] のし 包装 に つい て メッセージ カ...  251187  10000346   \n",
       "\n",
       "       5                     6    7   \\\n",
       "0  566732  90011001000011011275  NaN   \n",
       "\n",
       "                                                  8   \\\n",
       "0  http://thumbnail.image.rakuten.co.jp/@0_mall/r...   \n",
       "\n",
       "                                                9   ... 12  13  14  15  16  \\\n",
       "0  http://item.rakuten.co.jp/ringbellshop/y895-003  ...  0   1   0   2   0   \n",
       "\n",
       "               17              18      19     20    21  \n",
       "0  20110421134213  20190202220807  730770  66528  7086  \n",
       "\n",
       "[1 rows x 22 columns]"
      ],
      "text/html": "<div>\n<style scoped>\n    .dataframe tbody tr th:only-of-type {\n        vertical-align: middle;\n    }\n\n    .dataframe tbody tr th {\n        vertical-align: top;\n    }\n\n    .dataframe thead th {\n        text-align: right;\n    }\n</style>\n<table border=\"1\" class=\"dataframe\">\n  <thead>\n    <tr style=\"text-align: right;\">\n      <th></th>\n      <th>0</th>\n      <th>1</th>\n      <th>2</th>\n      <th>3</th>\n      <th>4</th>\n      <th>5</th>\n      <th>6</th>\n      <th>7</th>\n      <th>8</th>\n      <th>9</th>\n      <th>...</th>\n      <th>12</th>\n      <th>13</th>\n      <th>14</th>\n      <th>15</th>\n      <th>16</th>\n      <th>17</th>\n      <th>18</th>\n      <th>19</th>\n      <th>20</th>\n      <th>21</th>\n    </tr>\n  </thead>\n  <tbody>\n    <tr>\n      <th>0</th>\n      <td>サライ の 贈り物 movelot リン ベル 30800円 コース 紅梅 母 の 日 父 ...</td>\n      <td>0/101381/566732</td>\n      <td>[ のし 対応 包装 メッセージ カード 無料 ] のし 包装 に つい て メッセージ カ...</td>\n      <td>251187</td>\n      <td>10000346</td>\n      <td>566732</td>\n      <td>90011001000011011275</td>\n      <td>NaN</td>\n      <td>http://thumbnail.image.rakuten.co.jp/@0_mall/r...</td>\n      <td>http://item.rakuten.co.jp/ringbellshop/y895-003</td>\n      <td>...</td>\n      <td>0</td>\n      <td>1</td>\n      <td>0</td>\n      <td>2</td>\n      <td>0</td>\n      <td>20110421134213</td>\n      <td>20190202220807</td>\n      <td>730770</td>\n      <td>66528</td>\n      <td>7086</td>\n    </tr>\n  </tbody>\n</table>\n<p>1 rows × 22 columns</p>\n</div>"
     },
     "metadata": {},
     "execution_count": 12
    }
   ],
   "source": [
    "tsv_file = 'data/101381_meta.tsv.gz'\n",
    "df = pd.read_csv(\n",
    "        tsv_file,\n",
    "        compression=\"gzip\",\n",
    "        header=None,  # no header in tsv\n",
    "        sep=\"\\t\",\n",
    "        quotechar='\"',\n",
    "    )\n",
    "df.head(1)"
   ]
  },
  {
   "cell_type": "code",
   "execution_count": 13,
   "metadata": {},
   "outputs": [
    {
     "output_type": "stream",
     "name": "stdout",
     "text": [
      "0    http://thumbnail.image.rakuten.co.jp/@0_mall/r...\n1    http://thumbnail.image.rakuten.co.jp/@0_mall/o...\n2    http://thumbnail.image.rakuten.co.jp/@0_mall/p...\n3    http://thumbnail.image.rakuten.co.jp/@0_mall/s...\n4    http://thumbnail.image.rakuten.co.jp/@0_mall/p...\nName: 8, dtype: object\n9726\n"
     ]
    }
   ],
   "source": [
    "img_urls = df.iloc[:,8]\n",
    "print(img_urls[:5])\n",
    "print(len(img_urls))"
   ]
  },
  {
   "cell_type": "code",
   "execution_count": 14,
   "metadata": {},
   "outputs": [],
   "source": [
    "import os\n",
    "import requests\n",
    "import base64\n",
    "from time import time as timer"
   ]
  },
  {
   "cell_type": "code",
   "execution_count": 15,
   "metadata": {},
   "outputs": [
    {
     "output_type": "execute_result",
     "data": {
      "text/plain": [
       "'aHR0cDovL3RodW1ibmFpbC5pbWFnZS5yYWt1dGVuLmNvLmpwL0AwX21hbGwvcmluZ2JlbGxzaG9wL2NhYmluZXQvY2F0ZS9zZXJhaS95ODk1LTAwMy5qcGc='"
      ]
     },
     "metadata": {},
     "execution_count": 15
    }
   ],
   "source": [
    "def url2path(url):\n",
    "    byte_str = base64.b64encode(url.encode())\n",
    "    _str = byte_str.decode('utf-8')\n",
    "    return _str\n",
    "\n",
    "url2path(img_urls[0])"
   ]
  },
  {
   "cell_type": "code",
   "execution_count": 16,
   "metadata": {},
   "outputs": [],
   "source": [
    "def fetch_url(url):\n",
    "    path = 'data/imgs/' + url2path(url) + '.jpg' \n",
    "    if not os.path.exists(path):\n",
    "        r = requests.get(url, stream=True)\n",
    "        if r.status_code == 200:\n",
    "            with open(path, 'wb') as f:\n",
    "                for chunk in r:\n",
    "                    f.write(chunk)\n",
    "    return path"
   ]
  },
  {
   "source": [
    "## Single process"
   ],
   "cell_type": "markdown",
   "metadata": {}
  },
  {
   "cell_type": "code",
   "execution_count": 17,
   "metadata": {},
   "outputs": [
    {
     "output_type": "stream",
     "name": "stderr",
     "text": [
      "100%|██████████| 500/500 [01:25<00:00,  5.88it/s]\n",
      "Elapsed Time: 85.00655007362366\n",
      "\n"
     ]
    }
   ],
   "source": [
    "\n",
    "start = timer()\n",
    "for entry in tqdm(img_urls[:500]):\n",
    "    fetch_url(entry)\n",
    "\n",
    "print(f\"\\nElapsed Time: {timer() - start}\")"
   ]
  },
  {
   "source": [
    "## ThreadPool to use 16 concurrent processes"
   ],
   "cell_type": "markdown",
   "metadata": {}
  },
  {
   "cell_type": "code",
   "execution_count": 18,
   "metadata": {},
   "outputs": [
    {
     "output_type": "stream",
     "name": "stderr",
     "text": [
      "100%|█████████▉| 499/500 [00:10<00:00, 46.95it/s]\n",
      "Elapsed Time: 10.645941019058228\n",
      "\n"
     ]
    }
   ],
   "source": [
    "from multiprocessing.pool import ThreadPool, Pool\n",
    "\n",
    "# pool = ThreadPool(16)\n",
    "# it looks that there has no difference of using Pool or ThreadPool\n",
    "pool = Pool(16)\n",
    "\n",
    "start = timer()\n",
    "result_list = []\n",
    "for res in tqdm(pool.imap_unordered(fetch_url, img_urls[501:1000]), total=500):\n",
    "    result_list.append(res)\n",
    "\n",
    "print(f\"\\nElapsed Time: {timer() - start}\")"
   ]
  },
  {
   "cell_type": "code",
   "execution_count": null,
   "metadata": {},
   "outputs": [],
   "source": []
  }
 ]
}